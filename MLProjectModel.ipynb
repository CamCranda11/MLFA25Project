{
  "nbformat": 4,
  "nbformat_minor": 0,
  "metadata": {
    "colab": {
      "provenance": [],
      "authorship_tag": "ABX9TyPRnXn5yLeRLmRSBONwz0y+",
      "include_colab_link": true
    },
    "kernelspec": {
      "name": "python3",
      "display_name": "Python 3"
    },
    "language_info": {
      "name": "python"
    }
  },
  "cells": [
    {
      "cell_type": "markdown",
      "metadata": {
        "id": "view-in-github",
        "colab_type": "text"
      },
      "source": [
        "<a href=\"https://colab.research.google.com/github/CamCranda11/MLFA25Project/blob/main/MLProjectModel.ipynb\" target=\"_parent\"><img src=\"https://colab.research.google.com/assets/colab-badge.svg\" alt=\"Open In Colab\"/></a>"
      ]
    },
    {
      "cell_type": "code",
      "execution_count": null,
      "metadata": {
        "id": "7G0TiT-W163A"
      },
      "outputs": [],
      "source": [
        "import pandas as pd\n",
        "import numpy as np\n",
        "from sklearn.preprocessing import StandardScaler\n",
        "from sklearn.cluster import KMeans\n",
        "import matplotlib.pyplot as plt\n",
        "\n",
        "song_data = pd.read_csv('/content/sample_data/spotify_data.csv')\n",
        "\n",
        "print(\"--- Original Data ---\")\n",
        "print(song_data.head())\n",
        "print(\"\\n\")"
      ]
    },
    {
      "cell_type": "code",
      "source": [
        "features_to_cluster = ['danceability', 'energy', 'mode']\n",
        "features_df = song_data[features_to_cluster].copy()\n",
        "\n",
        "mode_value = features_df['mode'].mode()[0]\n",
        "features_df['mode'] = features_df['mode'].fillna(mode_value)\n",
        "\n",
        "scaler = StandardScaler()\n",
        "scaled_features_df = scaler.fit_transform(features_df)\n",
        "\n",
        "print(\"--- Scaled Features (First 5 Rows) ---\")\n",
        "print(scaled_features_df[:5])\n",
        "print(\"\\n\")"
      ],
      "metadata": {
        "id": "T7k_j4D7F2cB"
      },
      "execution_count": null,
      "outputs": []
    },
    {
      "cell_type": "code",
      "source": [
        "optimal_k = 4\n",
        "\n",
        "kmeans_model = KMeans(n_clusters=optimal_k, init='k-means++', n_init=10, random_state=42)\n",
        "kmeans_model.fit(scaled_features_df)\n",
        "\n",
        "cluster_labels = kmeans_model.labels_\n",
        "\n",
        "song_cluster_df = song_data.copy()\n",
        "song_cluster_df['cluster_id'] = cluster_labels\n",
        "\n",
        "print(\"--- Data with Cluster IDs ---\")\n",
        "display(song_cluster_df.head())\n",
        "print(\"\\n\")"
      ],
      "metadata": {
        "id": "7ZPheyVzGCGm"
      },
      "execution_count": null,
      "outputs": []
    },
    {
      "cell_type": "code",
      "source": [
        "def recommend_songs(input_song_name, data_df, num_recs=3):\n",
        "    \"\"\"\n",
        "    Recommends songs from the same cluster as the input song.\n",
        "    \"\"\"\n",
        "    try:\n",
        "        song_row = data_df[data_df['track_name'] == input_song_name].iloc[0]\n",
        "        song_cluster = song_row['cluster_id']\n",
        "\n",
        "        recommendations = data_df[\n",
        "            (data_df['cluster_id'] == song_cluster) &\n",
        "            (data_df['track_name'] != input_song_name)\n",
        "        ]\n",
        "        if len(recommendations) == 0:\n",
        "            return \"No similar songs found.\"\n",
        "\n",
        "        return recommendations.sample(min(num_recs, len(recommendations)))\n",
        "\n",
        "    except IndexError:\n",
        "        return f\"Song '{input_song_name}' not found in the dataset.\""
      ],
      "metadata": {
        "id": "l92pF1hTGGTt"
      },
      "execution_count": 13,
      "outputs": []
    },
    {
      "cell_type": "code",
      "source": [
        "my_song = 'I Won\\'t Give Up'\n",
        "recommendations = recommend_songs(my_song, song_cluster_df, num_recs=5)\n",
        "\n",
        "print(f\"--- Recommendations based on '{my_song}' ---\")\n",
        "display(recommendations[['track_name', 'cluster_id']])\n",
        "\n",
        "print(\"\\n\")\n",
        "\n",
        "my_song_2 = 'Fast Car'\n",
        "recommendations_2 = recommend_songs(my_song_2, song_cluster_df, num_recs=5)\n",
        "\n",
        "print(f\"--- Recommendations based on '{my_song_2}' ---\")\n",
        "display(recommendations_2[['track_name', 'cluster_id']])"
      ],
      "metadata": {
        "id": "47HW-7OKGImj"
      },
      "execution_count": null,
      "outputs": []
    }
  ]
}